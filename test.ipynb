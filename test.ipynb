{
 "cells": [
  {
   "cell_type": "code",
   "execution_count": 1,
   "id": "b48072ad",
   "metadata": {},
   "outputs": [],
   "source": [
    "import numpy as np\n",
    "import time\n",
    "import torch\n",
    "import torch.optim as optim\n",
    "import torch.nn.functional as F\n",
    "from tqdm import tqdm\n",
    "\n",
    "from IPython.display import clear_output\n",
    "\n",
    "from tetris import Tetris\n",
    "from tetris_master import TetrisMaster2"
   ]
  },
  {
   "cell_type": "code",
   "execution_count": 2,
   "id": "8dde8dd6",
   "metadata": {},
   "outputs": [],
   "source": [
    "w, h = 10, 20\n",
    "epoch = 1000\n",
    "\n",
    "game = Tetris(w, h)\n",
    "model = TetrisMaster2(bw=w, bh=h).double()"
   ]
  },
  {
   "cell_type": "code",
   "execution_count": 3,
   "id": "041d8b06",
   "metadata": {},
   "outputs": [
    {
     "data": {
      "text/plain": [
       "<All keys matched successfully>"
      ]
     },
     "execution_count": 3,
     "metadata": {},
     "output_type": "execute_result"
    }
   ],
   "source": [
    "cp = torch.load('checkpoints/test_model')\n",
    "model.load_state_dict(cp['model_state_dict'])"
   ]
  },
  {
   "cell_type": "code",
   "execution_count": 4,
   "id": "b0f440ea",
   "metadata": {
    "scrolled": false
   },
   "outputs": [
    {
     "name": "stdout",
     "output_type": "stream",
     "text": [
      "[[1 1 1 1]]\n",
      "self.total_lines_burnt=1\n",
      "\n",
      ". . . . . . . . . . 20\n",
      ". . @ @ @ . . . . . 19\n",
      ". . @ . @ @ . . . . 18\n",
      ". . . . . @ . . . . 17\n",
      ". . . . . @ @ @ . . 16\n",
      ". . . . . @ @ . . . 15\n",
      ". . . . . @ . . . . 14\n",
      "@ @ . . . @ @ . . . 13\n",
      "@ @ . . . . @ @ . . 12\n",
      "@ @ . . . @ @ @ @ @ 11\n",
      "@ . . . . . @ @ . . 10\n",
      "@ . . . . @ @ @ . . 9\n",
      "@ . . . . @ . . . . 8\n",
      "@ . . . . @ . . . . 7\n",
      "@ . . . . @ . . . . 6\n",
      "@ . . . . @ . @ . . 5\n",
      "@ @ @ . . @ . @ . . 4\n",
      "@ @ @ . . @ . @ @ . 3\n",
      "@ . @ @ @ @ . @ . . 2\n",
      "@ . @ @ @ . . @ @ . 1\n",
      "0 1 2 3 4 5 6 7 8 9\n",
      "res=(-0.01, -0.0101)\n",
      "tensor([0.0932, 0.0932, 0.1050, 0.0932, 0.1075, 0.1128, 0.1128, 0.0932, 0.0932,\n",
      "        0.0962], dtype=torch.float64, grad_fn=<SoftmaxBackward0>)\n",
      "tensor([0.2585, 0.2585, 0.2585, 0.2244], dtype=torch.float64,\n",
      "       grad_fn=<SoftmaxBackward0>)\n"
     ]
    },
    {
     "ename": "KeyboardInterrupt",
     "evalue": "",
     "output_type": "error",
     "traceback": [
      "\u001b[0;31m---------------------------------------------------------------------------\u001b[0m",
      "\u001b[0;31mKeyboardInterrupt\u001b[0m                         Traceback (most recent call last)",
      "Cell \u001b[0;32mIn[4], line 18\u001b[0m\n\u001b[1;32m     16\u001b[0m \u001b[38;5;28mprint\u001b[39m(yp)\n\u001b[1;32m     17\u001b[0m \u001b[38;5;28mprint\u001b[39m(yr)\n\u001b[0;32m---> 18\u001b[0m \u001b[43mtime\u001b[49m\u001b[38;5;241;43m.\u001b[39;49m\u001b[43msleep\u001b[49m\u001b[43m(\u001b[49m\u001b[38;5;241;43m0.5\u001b[39;49m\u001b[43m)\u001b[49m\n",
      "\u001b[0;31mKeyboardInterrupt\u001b[0m: "
     ]
    }
   ],
   "source": [
    "game.clear_board()\n",
    "game.set_random_state(n_cols=1)\n",
    "for _ in range(100):\n",
    "    clear_output(wait=True)\n",
    "    # x = np.concatenate([game.board.reshape(-1), [game.next]])\n",
    "    x = torch.tensor(game.board, dtype=torch.double).unsqueeze(0)\n",
    "    yp, yr = model(x, torch.tensor(game.next, dtype=torch.double).view(1, 1))#[0]\n",
    "#     game.clear_board()\n",
    "#     d = game.set_random_state(n_cols=1)\n",
    "    game.print()\n",
    "    with torch.no_grad():\n",
    "        col = np.random.choice(range(w), p=yp)\n",
    "        rot = np.random.choice(range(4), p=yr)\n",
    "        res = game.turn(col, rot)\n",
    "    print(f'{res=}')\n",
    "    print(yp)\n",
    "    print(yr)\n",
    "    time.sleep(0.5)\n",
    "    "
   ]
  },
  {
   "cell_type": "code",
   "execution_count": null,
   "id": "f0227e01",
   "metadata": {},
   "outputs": [],
   "source": [
    "print()"
   ]
  },
  {
   "cell_type": "code",
   "execution_count": null,
   "id": "24acd65c",
   "metadata": {},
   "outputs": [],
   "source": []
  }
 ],
 "metadata": {
  "kernelspec": {
   "display_name": "ML-jupyter",
   "language": "python",
   "name": "ml-jyputer"
  },
  "language_info": {
   "codemirror_mode": {
    "name": "ipython",
    "version": 3
   },
   "file_extension": ".py",
   "mimetype": "text/x-python",
   "name": "python",
   "nbconvert_exporter": "python",
   "pygments_lexer": "ipython3",
   "version": "3.9.18"
  }
 },
 "nbformat": 4,
 "nbformat_minor": 5
}
