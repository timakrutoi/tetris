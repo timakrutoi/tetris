{
 "cells": [
  {
   "cell_type": "code",
   "execution_count": 1,
   "id": "9702dab3",
   "metadata": {},
   "outputs": [],
   "source": [
    "import numpy as np\n",
    "import torch\n",
    "import torch.nn as nn\n",
    "import torch.optim as optim\n",
    "import torch.nn.functional as F\n",
    "from tqdm import tqdm\n",
    "\n",
    "from tetris import Tetris, rewards\n",
    "from tetrismaster import TetrisMaster2"
   ]
  },
  {
   "cell_type": "code",
   "execution_count": 2,
   "id": "e5044930",
   "metadata": {},
   "outputs": [],
   "source": [
    "w, h = 10, 20\n",
    "game_len = 50\n",
    "epoch = 10000\n",
    "betta = 0.3\n",
    "gamma = 0.89\n",
    "rf = 4\n",
    "lr = 1e-5"
   ]
  },
  {
   "cell_type": "code",
   "execution_count": 3,
   "id": "708a92db",
   "metadata": {},
   "outputs": [],
   "source": [
    "game = Tetris(w, h)\n",
    "game.clear_board(True)\n",
    "# game.set_random_state()\n",
    "model = TetrisMaster2(bw=w, bh=h).double()\n",
    "\n",
    "# crit = lambda x: -torch.log(F.softmax(x, dim=0).prod() + eps)\n",
    "crit = nn.NLLLoss()\n",
    "# crit = nn.CrossEntropyLoss()\n",
    "optimizer = optim.Adam(TetrisMaster2.parameters(model), lr=lr)\n",
    "best_loss = 99999\n",
    "losses_e = []"
   ]
  },
  {
   "cell_type": "code",
   "execution_count": null,
   "id": "ad5a7a02",
   "metadata": {},
   "outputs": [
    {
     "name": "stderr",
     "output_type": "stream",
     "text": [
      " 74%|██████████████████████████████████████████████████████████                     | 7357/10000 [43:24<16:22,  2.69it/s, str=loss: 5.8473 | reward: 0.2824]"
     ]
    }
   ],
   "source": [
    "it = tqdm(range(0, epoch))\n",
    "losses = []\n",
    "for e in it:\n",
    "    game.clear_board()\n",
    "    optimizer.zero_grad()\n",
    "\n",
    "    rwds = []\n",
    "    probs_p = []\n",
    "    probs_r = []\n",
    "    \n",
    "    done = False\n",
    "    \n",
    "    # collecting data loop\n",
    "#     d = game.set_random_state()\n",
    "    for t in range(game_len):\n",
    "        x = torch.tensor(game.board - 1/2, dtype=torch.double).unsqueeze(0)\n",
    "        yp, yr = model(x, torch.tensor(game.next, dtype=torch.double).view(1, 1))#[0]\n",
    "        with torch.no_grad():\n",
    "            col = np.random.choice(range(w), p=yp)\n",
    "            rot = np.random.choice(range(4), p=yr)\n",
    "\n",
    "            rp, rr = game.turn(col, rot)\n",
    "            if rp <= rewards['lose_game_penalty']:\n",
    "#                 game.print()\n",
    "                d = game.set_random_state()\n",
    "#                 break\n",
    "                \n",
    "        rwds.append((rp + rr + sum(rwds)) * gamma**t)\n",
    "        probs_p.append(yp)\n",
    "        probs_r.append(yr)\n",
    "    probs_p = torch.stack(probs_p, dim=1)\n",
    "    probs_r = torch.stack(probs_r, dim=1)\n",
    "#     print(rwds)\n",
    "#     print(probs_p.detach())\n",
    "#     print(probs_r.detach())\n",
    "#     if e == 1:\n",
    "#         break\n",
    "\n",
    "    loss  = torch.sum(-probs_p.log() * torch.tensor(rwds).view(1, -1))# + betta * torch.sum(-probs_p.log() * probs_p)\n",
    "    loss += torch.sum(-probs_r.log() * torch.tensor(rwds).view(1, -1))# + betta * torch.sum(-probs_r.log() * probs_r)\n",
    "#     loss *= 1e-4\n",
    "#     print(probs_r)\n",
    "#     print(loss.item())\n",
    "    \n",
    "    loss.backward()\n",
    "    nn.utils.clip_grad_value_(model.parameters(), 5)\n",
    "    optimizer.step()\n",
    "\n",
    "    losses.append(loss.item()) \n",
    "    output = f'loss: {round(np.mean(losses), rf)} ' +\\\n",
    "        f'| reward: {round(np.sum(rwds), rf)}'\n",
    "    it.set_postfix(str=output)\n",
    "\n",
    "    if e % 200:\n",
    "        best_loss = loss\n",
    "        try:\n",
    "            torch.save({\n",
    "                'model_state_dict': model.state_dict(),\n",
    "            }, 'checkpoints/test_model'.format(epoch, best_loss))\n",
    "        except KeyboardIterrupt:\n",
    "            torch.save({\n",
    "                'model_state_dict': model.state_dict(),\n",
    "            }, 'checkpoints/test_model'.format(epoch, best_loss))\n",
    "\n",
    "print('Done!')"
   ]
  },
  {
   "cell_type": "code",
   "execution_count": 5,
   "id": "c49218d6",
   "metadata": {},
   "outputs": [
    {
     "data": {
      "text/plain": [
       "[<matplotlib.lines.Line2D at 0x7fabfe834eb0>]"
      ]
     },
     "execution_count": 5,
     "metadata": {},
     "output_type": "execute_result"
    },
    {
     "data": {
      "image/png": "[encoded data removed]",
      "text/plain": [
       "<Figure size 640x480 with 1 Axes>"
      ]
     },
     "metadata": {},
     "output_type": "display_data"
    }
   ],
   "source": [
    "import matplotlib.pyplot as plt\n",
    "\n",
    "plt.plot(losses)\n",
    "# plt.show()"
   ]
  },
  {
   "cell_type": "code",
   "execution_count": null,
   "id": "0c40f049",
   "metadata": {},
   "outputs": [],
   "source": []
  }
 ],
 "metadata": {
  "kernelspec": {
   "display_name": "ML-jupyter",
   "language": "python",
   "name": "ml-jyputer"
  },
  "language_info": {
   "codemirror_mode": {
    "name": "ipython",
    "version": 3
   },
   "file_extension": ".py",
   "mimetype": "text/x-python",
   "name": "python",
   "nbconvert_exporter": "python",
   "pygments_lexer": "ipython3",
   "version": "3.9.18"
  }
 },
 "nbformat": 4,
 "nbformat_minor": 5
}
